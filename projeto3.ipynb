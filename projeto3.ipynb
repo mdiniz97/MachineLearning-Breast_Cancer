{
 "cells": [
  {
   "cell_type": "markdown",
   "metadata": {},
   "source": [
    "# Importando as Bibliotecas e a Base de Dados"
   ]
  },
  {
   "cell_type": "code",
   "execution_count": 1029,
   "metadata": {
    "collapsed": true
   },
   "outputs": [],
   "source": [
    "import numpy as np\n",
    "import pandas as pd\n",
    "import matplotlib.pyplot as plt\n",
    "import seaborn as sns\n",
    "from sklearn.datasets import load_breast_cancer\n",
    "from sklearn import svm"
   ]
  },
  {
   "cell_type": "markdown",
   "metadata": {},
   "source": [
    "# Tratando o Dataset para ser usado"
   ]
  },
  {
   "cell_type": "code",
   "execution_count": 902,
   "metadata": {
    "collapsed": false
   },
   "outputs": [],
   "source": [
    "dataset = load_breast_cancer()\n",
    "df = pd.DataFrame(dataset.data, columns=dataset.feature_names)"
   ]
  },
  {
   "cell_type": "code",
   "execution_count": 903,
   "metadata": {
    "collapsed": false
   },
   "outputs": [
    {
     "data": {
      "text/plain": [
       "dict_keys(['data', 'target', 'target_names', 'DESCR', 'feature_names'])"
      ]
     },
     "execution_count": 903,
     "metadata": {},
     "output_type": "execute_result"
    }
   ],
   "source": [
    "dataset.keys()"
   ]
  },
  {
   "cell_type": "code",
   "execution_count": 904,
   "metadata": {
    "collapsed": false
   },
   "outputs": [],
   "source": [
    "#dataset['data'] # daset das features\n",
    "#dataset['target'] # diagnósticos\n",
    "#dataset['target_names'] # nomes dos diagnósticos\n",
    "#dataset['DESCR'] # descrição do dataset \n",
    "#dataset['feature_names'] # nome das features"
   ]
  },
  {
   "cell_type": "code",
   "execution_count": 1021,
   "metadata": {
    "collapsed": false
   },
   "outputs": [],
   "source": [
    "dfData = pd.DataFrame(dataset['data'], columns = dataset['feature_names'])\n",
    "dfTarget = pd.DataFrame(dataset['target'], columns = ['diagnosis'])"
   ]
  },
  {
   "cell_type": "code",
   "execution_count": 1022,
   "metadata": {
    "collapsed": false
   },
   "outputs": [
    {
     "data": {
      "text/html": [
       "<div>\n",
       "<style scoped>\n",
       "    .dataframe tbody tr th:only-of-type {\n",
       "        vertical-align: middle;\n",
       "    }\n",
       "\n",
       "    .dataframe tbody tr th {\n",
       "        vertical-align: top;\n",
       "    }\n",
       "\n",
       "    .dataframe thead th {\n",
       "        text-align: right;\n",
       "    }\n",
       "</style>\n",
       "<table border=\"1\" class=\"dataframe\">\n",
       "  <thead>\n",
       "    <tr style=\"text-align: right;\">\n",
       "      <th></th>\n",
       "      <th>mean radius</th>\n",
       "      <th>mean texture</th>\n",
       "      <th>mean perimeter</th>\n",
       "      <th>mean area</th>\n",
       "      <th>mean smoothness</th>\n",
       "      <th>mean compactness</th>\n",
       "      <th>mean concavity</th>\n",
       "      <th>mean concave points</th>\n",
       "      <th>mean symmetry</th>\n",
       "      <th>mean fractal dimension</th>\n",
       "      <th>...</th>\n",
       "      <th>worst radius</th>\n",
       "      <th>worst texture</th>\n",
       "      <th>worst perimeter</th>\n",
       "      <th>worst area</th>\n",
       "      <th>worst smoothness</th>\n",
       "      <th>worst compactness</th>\n",
       "      <th>worst concavity</th>\n",
       "      <th>worst concave points</th>\n",
       "      <th>worst symmetry</th>\n",
       "      <th>worst fractal dimension</th>\n",
       "    </tr>\n",
       "  </thead>\n",
       "  <tbody>\n",
       "    <tr>\n",
       "      <th>0</th>\n",
       "      <td>17.99</td>\n",
       "      <td>10.38</td>\n",
       "      <td>122.80</td>\n",
       "      <td>1001.0</td>\n",
       "      <td>0.11840</td>\n",
       "      <td>0.27760</td>\n",
       "      <td>0.3001</td>\n",
       "      <td>0.14710</td>\n",
       "      <td>0.2419</td>\n",
       "      <td>0.07871</td>\n",
       "      <td>...</td>\n",
       "      <td>25.38</td>\n",
       "      <td>17.33</td>\n",
       "      <td>184.60</td>\n",
       "      <td>2019.0</td>\n",
       "      <td>0.1622</td>\n",
       "      <td>0.6656</td>\n",
       "      <td>0.7119</td>\n",
       "      <td>0.2654</td>\n",
       "      <td>0.4601</td>\n",
       "      <td>0.11890</td>\n",
       "    </tr>\n",
       "    <tr>\n",
       "      <th>1</th>\n",
       "      <td>20.57</td>\n",
       "      <td>17.77</td>\n",
       "      <td>132.90</td>\n",
       "      <td>1326.0</td>\n",
       "      <td>0.08474</td>\n",
       "      <td>0.07864</td>\n",
       "      <td>0.0869</td>\n",
       "      <td>0.07017</td>\n",
       "      <td>0.1812</td>\n",
       "      <td>0.05667</td>\n",
       "      <td>...</td>\n",
       "      <td>24.99</td>\n",
       "      <td>23.41</td>\n",
       "      <td>158.80</td>\n",
       "      <td>1956.0</td>\n",
       "      <td>0.1238</td>\n",
       "      <td>0.1866</td>\n",
       "      <td>0.2416</td>\n",
       "      <td>0.1860</td>\n",
       "      <td>0.2750</td>\n",
       "      <td>0.08902</td>\n",
       "    </tr>\n",
       "    <tr>\n",
       "      <th>2</th>\n",
       "      <td>19.69</td>\n",
       "      <td>21.25</td>\n",
       "      <td>130.00</td>\n",
       "      <td>1203.0</td>\n",
       "      <td>0.10960</td>\n",
       "      <td>0.15990</td>\n",
       "      <td>0.1974</td>\n",
       "      <td>0.12790</td>\n",
       "      <td>0.2069</td>\n",
       "      <td>0.05999</td>\n",
       "      <td>...</td>\n",
       "      <td>23.57</td>\n",
       "      <td>25.53</td>\n",
       "      <td>152.50</td>\n",
       "      <td>1709.0</td>\n",
       "      <td>0.1444</td>\n",
       "      <td>0.4245</td>\n",
       "      <td>0.4504</td>\n",
       "      <td>0.2430</td>\n",
       "      <td>0.3613</td>\n",
       "      <td>0.08758</td>\n",
       "    </tr>\n",
       "    <tr>\n",
       "      <th>3</th>\n",
       "      <td>11.42</td>\n",
       "      <td>20.38</td>\n",
       "      <td>77.58</td>\n",
       "      <td>386.1</td>\n",
       "      <td>0.14250</td>\n",
       "      <td>0.28390</td>\n",
       "      <td>0.2414</td>\n",
       "      <td>0.10520</td>\n",
       "      <td>0.2597</td>\n",
       "      <td>0.09744</td>\n",
       "      <td>...</td>\n",
       "      <td>14.91</td>\n",
       "      <td>26.50</td>\n",
       "      <td>98.87</td>\n",
       "      <td>567.7</td>\n",
       "      <td>0.2098</td>\n",
       "      <td>0.8663</td>\n",
       "      <td>0.6869</td>\n",
       "      <td>0.2575</td>\n",
       "      <td>0.6638</td>\n",
       "      <td>0.17300</td>\n",
       "    </tr>\n",
       "    <tr>\n",
       "      <th>4</th>\n",
       "      <td>20.29</td>\n",
       "      <td>14.34</td>\n",
       "      <td>135.10</td>\n",
       "      <td>1297.0</td>\n",
       "      <td>0.10030</td>\n",
       "      <td>0.13280</td>\n",
       "      <td>0.1980</td>\n",
       "      <td>0.10430</td>\n",
       "      <td>0.1809</td>\n",
       "      <td>0.05883</td>\n",
       "      <td>...</td>\n",
       "      <td>22.54</td>\n",
       "      <td>16.67</td>\n",
       "      <td>152.20</td>\n",
       "      <td>1575.0</td>\n",
       "      <td>0.1374</td>\n",
       "      <td>0.2050</td>\n",
       "      <td>0.4000</td>\n",
       "      <td>0.1625</td>\n",
       "      <td>0.2364</td>\n",
       "      <td>0.07678</td>\n",
       "    </tr>\n",
       "  </tbody>\n",
       "</table>\n",
       "<p>5 rows × 30 columns</p>\n",
       "</div>"
      ],
      "text/plain": [
       "   mean radius  mean texture  mean perimeter  mean area  mean smoothness  \\\n",
       "0        17.99         10.38          122.80     1001.0          0.11840   \n",
       "1        20.57         17.77          132.90     1326.0          0.08474   \n",
       "2        19.69         21.25          130.00     1203.0          0.10960   \n",
       "3        11.42         20.38           77.58      386.1          0.14250   \n",
       "4        20.29         14.34          135.10     1297.0          0.10030   \n",
       "\n",
       "   mean compactness  mean concavity  mean concave points  mean symmetry  \\\n",
       "0           0.27760          0.3001              0.14710         0.2419   \n",
       "1           0.07864          0.0869              0.07017         0.1812   \n",
       "2           0.15990          0.1974              0.12790         0.2069   \n",
       "3           0.28390          0.2414              0.10520         0.2597   \n",
       "4           0.13280          0.1980              0.10430         0.1809   \n",
       "\n",
       "   mean fractal dimension           ...             worst radius  \\\n",
       "0                 0.07871           ...                    25.38   \n",
       "1                 0.05667           ...                    24.99   \n",
       "2                 0.05999           ...                    23.57   \n",
       "3                 0.09744           ...                    14.91   \n",
       "4                 0.05883           ...                    22.54   \n",
       "\n",
       "   worst texture  worst perimeter  worst area  worst smoothness  \\\n",
       "0          17.33           184.60      2019.0            0.1622   \n",
       "1          23.41           158.80      1956.0            0.1238   \n",
       "2          25.53           152.50      1709.0            0.1444   \n",
       "3          26.50            98.87       567.7            0.2098   \n",
       "4          16.67           152.20      1575.0            0.1374   \n",
       "\n",
       "   worst compactness  worst concavity  worst concave points  worst symmetry  \\\n",
       "0             0.6656           0.7119                0.2654          0.4601   \n",
       "1             0.1866           0.2416                0.1860          0.2750   \n",
       "2             0.4245           0.4504                0.2430          0.3613   \n",
       "3             0.8663           0.6869                0.2575          0.6638   \n",
       "4             0.2050           0.4000                0.1625          0.2364   \n",
       "\n",
       "   worst fractal dimension  \n",
       "0                  0.11890  \n",
       "1                  0.08902  \n",
       "2                  0.08758  \n",
       "3                  0.17300  \n",
       "4                  0.07678  \n",
       "\n",
       "[5 rows x 30 columns]"
      ]
     },
     "execution_count": 1022,
     "metadata": {},
     "output_type": "execute_result"
    }
   ],
   "source": [
    "dfData.head()"
   ]
  },
  {
   "cell_type": "code",
   "execution_count": 1023,
   "metadata": {
    "collapsed": false
   },
   "outputs": [
    {
     "data": {
      "text/html": [
       "<div>\n",
       "<style scoped>\n",
       "    .dataframe tbody tr th:only-of-type {\n",
       "        vertical-align: middle;\n",
       "    }\n",
       "\n",
       "    .dataframe tbody tr th {\n",
       "        vertical-align: top;\n",
       "    }\n",
       "\n",
       "    .dataframe thead th {\n",
       "        text-align: right;\n",
       "    }\n",
       "</style>\n",
       "<table border=\"1\" class=\"dataframe\">\n",
       "  <thead>\n",
       "    <tr style=\"text-align: right;\">\n",
       "      <th></th>\n",
       "      <th>diagnosis</th>\n",
       "    </tr>\n",
       "  </thead>\n",
       "  <tbody>\n",
       "    <tr>\n",
       "      <th>0</th>\n",
       "      <td>0</td>\n",
       "    </tr>\n",
       "    <tr>\n",
       "      <th>1</th>\n",
       "      <td>0</td>\n",
       "    </tr>\n",
       "    <tr>\n",
       "      <th>2</th>\n",
       "      <td>0</td>\n",
       "    </tr>\n",
       "    <tr>\n",
       "      <th>3</th>\n",
       "      <td>0</td>\n",
       "    </tr>\n",
       "    <tr>\n",
       "      <th>4</th>\n",
       "      <td>0</td>\n",
       "    </tr>\n",
       "  </tbody>\n",
       "</table>\n",
       "</div>"
      ],
      "text/plain": [
       "   diagnosis\n",
       "0          0\n",
       "1          0\n",
       "2          0\n",
       "3          0\n",
       "4          0"
      ]
     },
     "execution_count": 1023,
     "metadata": {},
     "output_type": "execute_result"
    }
   ],
   "source": [
    "dfTarget.head()"
   ]
  },
  {
   "cell_type": "code",
   "execution_count": 908,
   "metadata": {
    "collapsed": true
   },
   "outputs": [],
   "source": [
    "from sklearn.model_selection import train_test_split"
   ]
  },
  {
   "cell_type": "code",
   "execution_count": 939,
   "metadata": {
    "collapsed": false
   },
   "outputs": [],
   "source": [
    "X_train, X_test, y_train, y_test = train_test_split(dfData, np.ravel(dfTarget), test_size=0.30, random_state = 1)\n",
    "\n",
    "# colocando o random state para sempre que reexecutar gerar a mesma combinação aleatória de treino e teste"
   ]
  },
  {
   "cell_type": "markdown",
   "metadata": {},
   "source": [
    "# Linear Kernel"
   ]
  },
  {
   "cell_type": "code",
   "execution_count": 910,
   "metadata": {
    "collapsed": true
   },
   "outputs": [],
   "source": [
    "import warnings\n",
    "warnings.filterwarnings(\"ignore\")\n",
    "\n",
    "from sklearn.svm import LinearSVC\n",
    "from sklearn.metrics import classification_report, confusion_matrix"
   ]
  },
  {
   "cell_type": "code",
   "execution_count": 911,
   "metadata": {
    "collapsed": false
   },
   "outputs": [],
   "source": [
    "svm = LinearSVC()\n",
    "#svm.kernel = 'linear'"
   ]
  },
  {
   "cell_type": "code",
   "execution_count": 960,
   "metadata": {
    "collapsed": false
   },
   "outputs": [
    {
     "data": {
      "text/plain": [
       "LinearSVC(C=1.0, class_weight=None, dual=True, fit_intercept=True,\n",
       "     intercept_scaling=1, loss='squared_hinge', max_iter=1000,\n",
       "     multi_class='ovr', penalty='l2', random_state=None, tol=0.0001,\n",
       "     verbose=0)"
      ]
     },
     "execution_count": 960,
     "metadata": {},
     "output_type": "execute_result"
    }
   ],
   "source": [
    "svm.fit(X_train,y_train)"
   ]
  },
  {
   "cell_type": "code",
   "execution_count": 961,
   "metadata": {
    "collapsed": false
   },
   "outputs": [
    {
     "name": "stdout",
     "output_type": "stream",
     "text": [
      "             precision    recall  f1-score   support\n",
      "\n",
      "          0       0.52      1.00      0.68        63\n",
      "          1       1.00      0.46      0.63       108\n",
      "\n",
      "avg / total       0.82      0.66      0.65       171\n",
      "\n",
      "[[63  0]\n",
      " [58 50]]\n"
     ]
    }
   ],
   "source": [
    "pred  = svm.predict(X_test)\n",
    "print(classification_report(y_test, pred))\n",
    "print(confusion_matrix(y_test, pred))"
   ]
  },
  {
   "cell_type": "code",
   "execution_count": 965,
   "metadata": {
    "collapsed": false
   },
   "outputs": [],
   "source": [
    "from sklearn.model_selection import GridSearchCV\n",
    "\n",
    "paramGrid = {'C': [0.01, 0.1,1, 10, 100, 1000, 10000, 100000]}"
   ]
  },
  {
   "cell_type": "code",
   "execution_count": 966,
   "metadata": {
    "collapsed": false
   },
   "outputs": [],
   "source": [
    "grid = GridSearchCV(svm, paramGrid, verbose = 3, n_jobs = -1)"
   ]
  },
  {
   "cell_type": "code",
   "execution_count": 970,
   "metadata": {
    "collapsed": false
   },
   "outputs": [
    {
     "name": "stdout",
     "output_type": "stream",
     "text": [
      "Fitting 3 folds for each of 8 candidates, totalling 24 fits\n",
      "[CV] C=0.01 ..........................................................\n",
      "[CV] C=0.01 ..........................................................\n",
      "[CV] C=0.1 ...........................................................\n",
      "[CV] C=0.01 ..........................................................\n",
      "[CV] ................. C=0.01, score=0.8195488721804511, total=   0.0s\n",
      "[CV] ................. C=0.01, score=0.9323308270676691, total=   0.0s\n",
      "[CV] .................. C=0.1, score=0.8721804511278195, total=   0.0s\n",
      "[CV] C=0.1 ...........................................................\n",
      "[CV] ................. C=0.01, score=0.8787878787878788, total=   0.0s\n",
      "[CV] C=0.1 ...........................................................\n",
      "[CV] C=1 .............................................................\n",
      "[CV] C=1 .............................................................\n",
      "[CV] ................... C=0.1, score=0.924812030075188, total=   0.0s\n",
      "[CV] .................... C=1, score=0.8872180451127819, total=   0.0s\n",
      "[CV] C=10000 .........................................................\n",
      "[CV] C=1 .............................................................\n",
      "[CV] .................... C=1, score=0.8872180451127819, total=   0.0s\n",
      "[CV] .................. C=0.1, score=0.8787878787878788, total=   0.0s\n",
      "[CV] ................ C=10000, score=0.8947368421052632, total=   0.0s\n",
      "[CV] C=10000 .........................................................\n",
      "[CV] .................... C=1, score=0.9545454545454546, total=   0.0s\n",
      "[CV] C=10 ............................................................\n",
      "[CV] ................ C=10000, score=0.8796992481203008, total=   0.0s\n",
      "[CV] C=10000 .........................................................\n",
      "[CV] ................... C=10, score=0.8947368421052632, total=   0.0s\n",
      "[CV] C=10 ............................................................\n",
      "[CV] .................... C=10, score=0.924812030075188, total=   0.0s\n",
      "[CV] .............................. C=10000, score=0.75, total=   0.0s\n",
      "[CV] C=10 ............................................................\n",
      "[CV] C=100000 ........................................................\n",
      "[CV] ............... C=100000, score=0.8646616541353384, total=   0.0s\n",
      "[CV] C=100000 ........................................................\n",
      "[CV] ................... C=10, score=0.9393939393939394, total=   0.0s\n",
      "[CV] C=100 ...........................................................\n",
      "[CV] .................. C=100, score=0.7744360902255639, total=   0.0s\n",
      "[CV] ............... C=100000, score=0.9323308270676691, total=   0.0s\n",
      "[CV] C=100000 ........................................................\n",
      "[CV] C=100 ...........................................................\n",
      "[CV] .................. C=100, score=0.9097744360902256, total=   0.0s\n",
      "[CV] ............... C=100000, score=0.8560606060606061, total=   0.0s\n",
      "[CV] C=100 ...........................................................\n",
      "[CV] .................. C=100, score=0.9545454545454546, total=   0.0s\n",
      "[CV] C=1000 ..........................................................\n",
      "[CV] ................. C=1000, score=0.9022556390977443, total=   0.0s\n",
      "[CV] C=1000 ..........................................................\n",
      "[CV] ................. C=1000, score=0.9398496240601504, total=   0.0s\n"
     ]
    },
    {
     "name": "stderr",
     "output_type": "stream",
     "text": [
      "[Parallel(n_jobs=-1)]: Done   8 out of  24 | elapsed:    0.1s remaining:    0.2s\n"
     ]
    },
    {
     "name": "stdout",
     "output_type": "stream",
     "text": [
      "[CV] C=1000 ..........................................................\n",
      "[CV] ................. C=1000, score=0.9545454545454546, total=   0.0s\n"
     ]
    },
    {
     "name": "stderr",
     "output_type": "stream",
     "text": [
      "[Parallel(n_jobs=-1)]: Done  24 out of  24 | elapsed:    0.3s finished\n"
     ]
    },
    {
     "data": {
      "text/plain": [
       "GridSearchCV(cv=None, error_score='raise',\n",
       "       estimator=LinearSVC(C=1.0, class_weight=None, dual=True, fit_intercept=True,\n",
       "     intercept_scaling=1, loss='squared_hinge', max_iter=1000,\n",
       "     multi_class='ovr', penalty='l2', random_state=None, tol=0.0001,\n",
       "     verbose=0),\n",
       "       fit_params=None, iid=True, n_jobs=-1,\n",
       "       param_grid={'C': [0.01, 0.1, 1, 10, 100, 1000, 10000, 100000]},\n",
       "       pre_dispatch='2*n_jobs', refit=True, return_train_score='warn',\n",
       "       scoring=None, verbose=3)"
      ]
     },
     "execution_count": 970,
     "metadata": {},
     "output_type": "execute_result"
    }
   ],
   "source": [
    "grid.fit(X_train, y_train)"
   ]
  },
  {
   "cell_type": "code",
   "execution_count": 971,
   "metadata": {
    "collapsed": false
   },
   "outputs": [
    {
     "name": "stdout",
     "output_type": "stream",
     "text": [
      "Best params:  {'C': 1000}\n",
      "\n",
      "Best estimator:  LinearSVC(C=1000, class_weight=None, dual=True, fit_intercept=True,\n",
      "     intercept_scaling=1, loss='squared_hinge', max_iter=1000,\n",
      "     multi_class='ovr', penalty='l2', random_state=None, tol=0.0001,\n",
      "     verbose=0)\n",
      "\n",
      "Best score:  0.9321608040201005\n",
      "\n"
     ]
    }
   ],
   "source": [
    "print(\"Best params: \", grid.best_params_, end = \"\\n\\n\")\n",
    "print(\"Best estimator: \", grid.best_estimator_, end = \"\\n\\n\")\n",
    "print(\"Best score: \", grid.best_score_, end = \"\\n\\n\")"
   ]
  },
  {
   "cell_type": "code",
   "execution_count": 972,
   "metadata": {
    "collapsed": false
   },
   "outputs": [
    {
     "name": "stdout",
     "output_type": "stream",
     "text": [
      "             precision    recall  f1-score   support\n",
      "\n",
      "          0       0.88      0.92      0.90        63\n",
      "          1       0.95      0.93      0.94       108\n",
      "\n",
      "avg / total       0.93      0.92      0.92       171\n",
      "\n",
      "[[ 58   5]\n",
      " [  8 100]]\n"
     ]
    }
   ],
   "source": [
    "gridPred = grid.predict(X_test)\n",
    "print(classification_report(y_test, gridPred))\n",
    "print(confusion_matrix(y_test, gridPred))"
   ]
  },
  {
   "cell_type": "code",
   "execution_count": 973,
   "metadata": {
    "collapsed": false
   },
   "outputs": [],
   "source": [
    "#grid.cv_results_"
   ]
  },
  {
   "cell_type": "code",
   "execution_count": 974,
   "metadata": {
    "collapsed": false
   },
   "outputs": [],
   "source": [
    "listaScore = []\n",
    "listaC = []\n",
    "for score, C in zip(grid.cv_results_['mean_test_score'], grid.cv_results_['param_C']):\n",
    "    listaScore.append(score)\n",
    "    listaC.append(C)"
   ]
  },
  {
   "cell_type": "code",
   "execution_count": 975,
   "metadata": {
    "collapsed": false
   },
   "outputs": [
    {
     "data": {
      "image/png": "[encoded data removed]",
      "text/plain": [
       "<Figure size 432x288 with 1 Axes>"
      ]
     },
     "metadata": {
      "needs_background": "light"
     },
     "output_type": "display_data"
    }
   ],
   "source": [
    "plt.subplot()\n",
    "plt.loglog(listaC, listaScore, basex=2)\n",
    "plt.grid(True)\n",
    "plt.yscale(\"linear\")\n",
    "plt.xlabel(\"C\")\n",
    "plt.ylabel(\"Test Score\")\n",
    "plt.title(\"Test Score x C\")\n",
    "plt.show()"
   ]
  },
  {
   "cell_type": "code",
   "execution_count": 1024,
   "metadata": {
    "collapsed": false
   },
   "outputs": [
    {
     "data": {
      "text/html": [
       "<div>\n",
       "<style scoped>\n",
       "    .dataframe tbody tr th:only-of-type {\n",
       "        vertical-align: middle;\n",
       "    }\n",
       "\n",
       "    .dataframe tbody tr th {\n",
       "        vertical-align: top;\n",
       "    }\n",
       "\n",
       "    .dataframe thead th {\n",
       "        text-align: right;\n",
       "    }\n",
       "</style>\n",
       "<table border=\"1\" class=\"dataframe\">\n",
       "  <thead>\n",
       "    <tr style=\"text-align: right;\">\n",
       "      <th></th>\n",
       "      <th>mean radius</th>\n",
       "      <th>mean texture</th>\n",
       "      <th>mean perimeter</th>\n",
       "      <th>mean area</th>\n",
       "      <th>mean smoothness</th>\n",
       "      <th>mean compactness</th>\n",
       "      <th>mean concavity</th>\n",
       "      <th>mean concave points</th>\n",
       "      <th>mean symmetry</th>\n",
       "      <th>mean fractal dimension</th>\n",
       "      <th>...</th>\n",
       "      <th>worst texture</th>\n",
       "      <th>worst perimeter</th>\n",
       "      <th>worst area</th>\n",
       "      <th>worst smoothness</th>\n",
       "      <th>worst compactness</th>\n",
       "      <th>worst concavity</th>\n",
       "      <th>worst concave points</th>\n",
       "      <th>worst symmetry</th>\n",
       "      <th>worst fractal dimension</th>\n",
       "      <th>diagnosis</th>\n",
       "    </tr>\n",
       "  </thead>\n",
       "  <tbody>\n",
       "    <tr>\n",
       "      <th>0</th>\n",
       "      <td>17.99</td>\n",
       "      <td>10.38</td>\n",
       "      <td>122.80</td>\n",
       "      <td>1001.0</td>\n",
       "      <td>0.11840</td>\n",
       "      <td>0.27760</td>\n",
       "      <td>0.3001</td>\n",
       "      <td>0.14710</td>\n",
       "      <td>0.2419</td>\n",
       "      <td>0.07871</td>\n",
       "      <td>...</td>\n",
       "      <td>17.33</td>\n",
       "      <td>184.60</td>\n",
       "      <td>2019.0</td>\n",
       "      <td>0.1622</td>\n",
       "      <td>0.6656</td>\n",
       "      <td>0.7119</td>\n",
       "      <td>0.2654</td>\n",
       "      <td>0.4601</td>\n",
       "      <td>0.11890</td>\n",
       "      <td>0</td>\n",
       "    </tr>\n",
       "    <tr>\n",
       "      <th>1</th>\n",
       "      <td>20.57</td>\n",
       "      <td>17.77</td>\n",
       "      <td>132.90</td>\n",
       "      <td>1326.0</td>\n",
       "      <td>0.08474</td>\n",
       "      <td>0.07864</td>\n",
       "      <td>0.0869</td>\n",
       "      <td>0.07017</td>\n",
       "      <td>0.1812</td>\n",
       "      <td>0.05667</td>\n",
       "      <td>...</td>\n",
       "      <td>23.41</td>\n",
       "      <td>158.80</td>\n",
       "      <td>1956.0</td>\n",
       "      <td>0.1238</td>\n",
       "      <td>0.1866</td>\n",
       "      <td>0.2416</td>\n",
       "      <td>0.1860</td>\n",
       "      <td>0.2750</td>\n",
       "      <td>0.08902</td>\n",
       "      <td>0</td>\n",
       "    </tr>\n",
       "    <tr>\n",
       "      <th>2</th>\n",
       "      <td>19.69</td>\n",
       "      <td>21.25</td>\n",
       "      <td>130.00</td>\n",
       "      <td>1203.0</td>\n",
       "      <td>0.10960</td>\n",
       "      <td>0.15990</td>\n",
       "      <td>0.1974</td>\n",
       "      <td>0.12790</td>\n",
       "      <td>0.2069</td>\n",
       "      <td>0.05999</td>\n",
       "      <td>...</td>\n",
       "      <td>25.53</td>\n",
       "      <td>152.50</td>\n",
       "      <td>1709.0</td>\n",
       "      <td>0.1444</td>\n",
       "      <td>0.4245</td>\n",
       "      <td>0.4504</td>\n",
       "      <td>0.2430</td>\n",
       "      <td>0.3613</td>\n",
       "      <td>0.08758</td>\n",
       "      <td>0</td>\n",
       "    </tr>\n",
       "    <tr>\n",
       "      <th>3</th>\n",
       "      <td>11.42</td>\n",
       "      <td>20.38</td>\n",
       "      <td>77.58</td>\n",
       "      <td>386.1</td>\n",
       "      <td>0.14250</td>\n",
       "      <td>0.28390</td>\n",
       "      <td>0.2414</td>\n",
       "      <td>0.10520</td>\n",
       "      <td>0.2597</td>\n",
       "      <td>0.09744</td>\n",
       "      <td>...</td>\n",
       "      <td>26.50</td>\n",
       "      <td>98.87</td>\n",
       "      <td>567.7</td>\n",
       "      <td>0.2098</td>\n",
       "      <td>0.8663</td>\n",
       "      <td>0.6869</td>\n",
       "      <td>0.2575</td>\n",
       "      <td>0.6638</td>\n",
       "      <td>0.17300</td>\n",
       "      <td>0</td>\n",
       "    </tr>\n",
       "    <tr>\n",
       "      <th>4</th>\n",
       "      <td>20.29</td>\n",
       "      <td>14.34</td>\n",
       "      <td>135.10</td>\n",
       "      <td>1297.0</td>\n",
       "      <td>0.10030</td>\n",
       "      <td>0.13280</td>\n",
       "      <td>0.1980</td>\n",
       "      <td>0.10430</td>\n",
       "      <td>0.1809</td>\n",
       "      <td>0.05883</td>\n",
       "      <td>...</td>\n",
       "      <td>16.67</td>\n",
       "      <td>152.20</td>\n",
       "      <td>1575.0</td>\n",
       "      <td>0.1374</td>\n",
       "      <td>0.2050</td>\n",
       "      <td>0.4000</td>\n",
       "      <td>0.1625</td>\n",
       "      <td>0.2364</td>\n",
       "      <td>0.07678</td>\n",
       "      <td>0</td>\n",
       "    </tr>\n",
       "  </tbody>\n",
       "</table>\n",
       "<p>5 rows × 31 columns</p>\n",
       "</div>"
      ],
      "text/plain": [
       "   mean radius  mean texture  mean perimeter  mean area  mean smoothness  \\\n",
       "0        17.99         10.38          122.80     1001.0          0.11840   \n",
       "1        20.57         17.77          132.90     1326.0          0.08474   \n",
       "2        19.69         21.25          130.00     1203.0          0.10960   \n",
       "3        11.42         20.38           77.58      386.1          0.14250   \n",
       "4        20.29         14.34          135.10     1297.0          0.10030   \n",
       "\n",
       "   mean compactness  mean concavity  mean concave points  mean symmetry  \\\n",
       "0           0.27760          0.3001              0.14710         0.2419   \n",
       "1           0.07864          0.0869              0.07017         0.1812   \n",
       "2           0.15990          0.1974              0.12790         0.2069   \n",
       "3           0.28390          0.2414              0.10520         0.2597   \n",
       "4           0.13280          0.1980              0.10430         0.1809   \n",
       "\n",
       "   mean fractal dimension    ...      worst texture  worst perimeter  \\\n",
       "0                 0.07871    ...              17.33           184.60   \n",
       "1                 0.05667    ...              23.41           158.80   \n",
       "2                 0.05999    ...              25.53           152.50   \n",
       "3                 0.09744    ...              26.50            98.87   \n",
       "4                 0.05883    ...              16.67           152.20   \n",
       "\n",
       "   worst area  worst smoothness  worst compactness  worst concavity  \\\n",
       "0      2019.0            0.1622             0.6656           0.7119   \n",
       "1      1956.0            0.1238             0.1866           0.2416   \n",
       "2      1709.0            0.1444             0.4245           0.4504   \n",
       "3       567.7            0.2098             0.8663           0.6869   \n",
       "4      1575.0            0.1374             0.2050           0.4000   \n",
       "\n",
       "   worst concave points  worst symmetry  worst fractal dimension  diagnosis  \n",
       "0                0.2654          0.4601                  0.11890          0  \n",
       "1                0.1860          0.2750                  0.08902          0  \n",
       "2                0.2430          0.3613                  0.08758          0  \n",
       "3                0.2575          0.6638                  0.17300          0  \n",
       "4                0.1625          0.2364                  0.07678          0  \n",
       "\n",
       "[5 rows x 31 columns]"
      ]
     },
     "execution_count": 1024,
     "metadata": {},
     "output_type": "execute_result"
    }
   ],
   "source": [
    "from pandas.tools.plotting import scatter_matrix\n",
    "\n",
    "result = pd.concat([dfData, dfTarget], axis=1, join_axes=[dfData.index])\n",
    "\n",
    "result.head()"
   ]
  },
  {
   "cell_type": "code",
   "execution_count": 1028,
   "metadata": {
    "collapsed": false
   },
   "outputs": [],
   "source": [
    "#p = sns.PairGrid(result, hue = \"diagnosis\")"
   ]
  },
  {
   "cell_type": "code",
   "execution_count": 978,
   "metadata": {
    "collapsed": false
   },
   "outputs": [],
   "source": [
    "#p.map(plt.hist);\n",
    "#plt.show"
   ]
  },
  {
   "cell_type": "markdown",
   "metadata": {},
   "source": [
    "# Gaussian Kernel"
   ]
  },
  {
   "cell_type": "code",
   "execution_count": 979,
   "metadata": {
    "collapsed": false
   },
   "outputs": [],
   "source": [
    "svmG = SVC()"
   ]
  },
  {
   "cell_type": "code",
   "execution_count": 980,
   "metadata": {
    "collapsed": false
   },
   "outputs": [
    {
     "data": {
      "text/plain": [
       "SVC(C=1.0, cache_size=200, class_weight=None, coef0=0.0,\n",
       "  decision_function_shape='ovr', degree=3, gamma='auto', kernel='rbf',\n",
       "  max_iter=-1, probability=False, random_state=None, shrinking=True,\n",
       "  tol=0.001, verbose=False)"
      ]
     },
     "execution_count": 980,
     "metadata": {},
     "output_type": "execute_result"
    }
   ],
   "source": [
    "svmG.fit(X_train,y_train)"
   ]
  },
  {
   "cell_type": "code",
   "execution_count": 981,
   "metadata": {
    "collapsed": false
   },
   "outputs": [
    {
     "name": "stdout",
     "output_type": "stream",
     "text": [
      "             precision    recall  f1-score   support\n",
      "\n",
      "          0       0.00      0.00      0.00        63\n",
      "          1       0.63      1.00      0.77       108\n",
      "\n",
      "avg / total       0.40      0.63      0.49       171\n",
      "\n",
      "[[  0  63]\n",
      " [  0 108]]\n"
     ]
    }
   ],
   "source": [
    "predGaussian  = svmG.predict(X_test)\n",
    "print(classification_report(y_test, predGaussian))\n",
    "print(confusion_matrix(y_test, predGaussian))"
   ]
  },
  {
   "cell_type": "code",
   "execution_count": 982,
   "metadata": {
    "collapsed": true
   },
   "outputs": [],
   "source": [
    "from sklearn.model_selection import GridSearchCV\n",
    "\n",
    "# sigma = 1/gamma\n",
    "\n",
    "paramGridGaussian = {'C': [0.01, 0.1,1, 10, 100, 1000, 10000, 100000],\n",
    "                    'gamma': [1000, 100, 10, 1, 0.1, 0.01, 0.001, 0.0001]}"
   ]
  },
  {
   "cell_type": "code",
   "execution_count": 983,
   "metadata": {
    "collapsed": true
   },
   "outputs": [],
   "source": [
    "gridGaussian = GridSearchCV(svmG, paramGridGaussian, verbose = 3, n_jobs = -1)"
   ]
  },
  {
   "cell_type": "code",
   "execution_count": 984,
   "metadata": {
    "collapsed": false
   },
   "outputs": [
    {
     "name": "stdout",
     "output_type": "stream",
     "text": [
      "Fitting 3 folds for each of 64 candidates, totalling 192 fits\n",
      "[CV] C=0.01, gamma=1000 ..............................................\n",
      "[CV] C=0.01, gamma=1000 ..............................................\n",
      "[CV] C=0.01, gamma=1000 ..............................................\n",
      "[CV] C=0.01, gamma=100 ...............................................\n",
      "[CV] ..... C=0.01, gamma=1000, score=0.6240601503759399, total=   0.0s\n",
      "[CV] ..... C=0.01, gamma=1000, score=0.6240601503759399, total=   0.0s\n",
      "[CV] ...... C=0.01, gamma=100, score=0.6240601503759399, total=   0.0s\n",
      "[CV] ..... C=0.01, gamma=1000, score=0.6287878787878788, total=   0.0s\n",
      "[CV] C=0.01, gamma=100 ...............................................\n",
      "[CV] C=0.01, gamma=100 ...............................................\n",
      "[CV] C=0.01, gamma=10 ................................................\n",
      "[CV] ...... C=0.01, gamma=100, score=0.6240601503759399, total=   0.0s\n",
      "[CV] C=0.01, gamma=10 ................................................\n",
      "[CV] ....... C=0.01, gamma=10, score=0.6240601503759399, total=   0.0s\n",
      "[CV] C=0.01, gamma=10 ................................................\n",
      "[CV] ....... C=0.01, gamma=10, score=0.6240601503759399, total=   0.0s\n",
      "[CV] ...... C=0.01, gamma=100, score=0.6287878787878788, total=   0.0s\n",
      "[CV] C=0.01, gamma=0.001 .............................................\n",
      "[CV] C=0.1, gamma=100 ................................................\n",
      "[CV] ....... C=0.01, gamma=10, score=0.6287878787878788, total=   0.0s\n",
      "[CV] .... C=0.01, gamma=0.001, score=0.6240601503759399, total=   0.0s\n",
      "[CV] C=0.1, gamma=0.1 ................................................\n",
      "[CV] C=0.01, gamma=1 .................................................\n",
      "[CV] C=0.1, gamma=100 ................................................\n",
      "[CV] ....... C=0.1, gamma=100, score=0.6240601503759399, total=   0.0s\n",
      "[CV] C=0.01, gamma=0.001 .............................................\n",
      "[CV] ........ C=0.01, gamma=1, score=0.6240601503759399, total=   0.0s\n",
      "[CV] C=0.01, gamma=1 .................................................\n",
      "[CV] ....... C=0.1, gamma=0.1, score=0.6287878787878788, total=   0.0s\n",
      "[CV] ....... C=0.1, gamma=100, score=0.6287878787878788, total=   0.0s\n",
      "[CV] C=0.1, gamma=10 .................................................\n",
      "[CV] C=0.1, gamma=0.01 ...............................................\n",
      "[CV] .... C=0.01, gamma=0.001, score=0.6240601503759399, total=   0.0s\n",
      "[CV] C=0.01, gamma=0.001 .............................................\n",
      "[CV] ........ C=0.01, gamma=1, score=0.6240601503759399, total=   0.0s\n",
      "[CV] ........ C=0.1, gamma=10, score=0.6240601503759399, total=   0.0s\n",
      "[CV] C=0.01, gamma=1 .................................................\n",
      "[CV] ...... C=0.1, gamma=0.01, score=0.6240601503759399, total=   0.0s\n",
      "[CV] C=0.1, gamma=10 .................................................\n",
      "[CV] .... C=0.01, gamma=0.001, score=0.6287878787878788, total=   0.0s\n",
      "[CV] C=0.1, gamma=0.01 ...............................................\n",
      "[CV] C=0.01, gamma=0.0001 ............................................\n",
      "[CV] ........ C=0.01, gamma=1, score=0.6287878787878788, total=   0.0s\n",
      "[CV] C=0.01, gamma=0.1 ...............................................\n",
      "[CV] ........ C=0.1, gamma=10, score=0.6240601503759399, total=   0.0s\n",
      "[CV] C=0.1, gamma=10 .................................................\n",
      "[CV] ...... C=0.1, gamma=0.01, score=0.6240601503759399, total=   0.0s\n",
      "[CV] C=0.1, gamma=0.01 ...............................................\n",
      "[CV] ... C=0.01, gamma=0.0001, score=0.6240601503759399, total=   0.0s\n",
      "[CV] C=0.01, gamma=0.0001 ............................................\n",
      "[CV] ...... C=0.01, gamma=0.1, score=0.6240601503759399, total=   0.0s\n",
      "[CV] C=0.01, gamma=0.1 ...............................................\n",
      "[CV] ........ C=0.1, gamma=10, score=0.6287878787878788, total=   0.0s\n",
      "[CV] ...... C=0.1, gamma=0.01, score=0.6287878787878788, total=   0.0s\n",
      "[CV] C=0.1, gamma=1 ..................................................\n",
      "[CV] C=0.1, gamma=0.001 ..............................................\n",
      "[CV] ... C=0.01, gamma=0.0001, score=0.6240601503759399, total=   0.0s\n",
      "[CV] C=0.01, gamma=0.0001 ............................................\n",
      "[CV] ...... C=0.01, gamma=0.1, score=0.6240601503759399, total=   0.0s\n",
      "[CV] C=0.01, gamma=0.1 ...............................................\n",
      "[CV] ......... C=0.1, gamma=1, score=0.6240601503759399, total=   0.0s\n",
      "[CV] C=0.1, gamma=1 ..................................................\n",
      "[CV] ..... C=0.1, gamma=0.001, score=0.6240601503759399, total=   0.0s\n",
      "[CV] C=0.1, gamma=0.001 ..............................................\n",
      "[CV] ... C=0.01, gamma=0.0001, score=0.6287878787878788, total=   0.0s\n",
      "[CV] C=0.1, gamma=1000 ...............................................\n",
      "[CV] ...... C=0.01, gamma=0.1, score=0.6287878787878788, total=   0.0s\n",
      "[CV] ......... C=0.1, gamma=1, score=0.6240601503759399, total=   0.0s\n",
      "[CV] C=0.1, gamma=1 ..................................................\n",
      "[CV] C=0.01, gamma=0.01 ..............................................\n",
      "[CV] ..... C=0.1, gamma=0.001, score=0.6240601503759399, total=   0.0s\n",
      "[CV] C=0.1, gamma=0.001 ..............................................\n",
      "[CV] ...... C=0.1, gamma=1000, score=0.6240601503759399, total=   0.0s\n",
      "[CV] C=0.1, gamma=1000 ...............................................\n",
      "[CV] ......... C=0.1, gamma=1, score=0.6287878787878788, total=   0.0s\n",
      "[CV] C=0.1, gamma=0.1 ................................................\n",
      "[CV] ..... C=0.1, gamma=0.001, score=0.6287878787878788, total=   0.0s\n",
      "[CV] ..... C=0.01, gamma=0.01, score=0.6240601503759399, total=   0.0s\n",
      "[CV] C=0.01, gamma=0.01 ..............................................\n",
      "[CV] C=0.1, gamma=0.0001 .............................................\n",
      "[CV] ...... C=0.1, gamma=1000, score=0.6240601503759399, total=   0.0s\n",
      "[CV] C=0.1, gamma=1000 ...............................................\n",
      "[CV] ....... C=0.1, gamma=0.1, score=0.6240601503759399, total=   0.0s\n",
      "[CV] .... C=0.1, gamma=0.0001, score=0.8947368421052632, total=   0.0s\n",
      "[CV] C=0.1, gamma=0.0001 .............................................\n",
      "[CV] ..... C=0.01, gamma=0.01, score=0.6240601503759399, total=   0.0s\n",
      "[CV] C=0.1, gamma=0.1 ................................................\n",
      "[CV] C=0.01, gamma=0.01 ..............................................\n",
      "[CV] ...... C=0.1, gamma=1000, score=0.6287878787878788, total=   0.0s\n",
      "[CV] C=0.1, gamma=100 ................................................\n",
      "[CV] .... C=0.1, gamma=0.0001, score=0.9022556390977443, total=   0.0s\n",
      "[CV] C=0.1, gamma=0.0001 .............................................\n",
      "[CV] ....... C=0.1, gamma=0.1, score=0.6240601503759399, total=   0.0s\n",
      "[CV] ..... C=0.01, gamma=0.01, score=0.6287878787878788, total=   0.0s\n",
      "[CV] C=1, gamma=1000 .................................................\n",
      "[CV] ....... C=0.1, gamma=100, score=0.6240601503759399, total=   0.0s\n",
      "[CV] .... C=0.1, gamma=0.0001, score=0.9242424242424242, total=   0.0s\n",
      "[CV] C=1, gamma=1 ....................................................\n",
      "[CV] C=1, gamma=0.001 ................................................\n",
      "[CV] C=10, gamma=10 ..................................................\n",
      "[CV] ........... C=1, gamma=1, score=0.6240601503759399, total=   0.0s\n",
      "[CV] ........ C=1, gamma=1000, score=0.6240601503759399, total=   0.0s\n",
      "[CV] C=1, gamma=1 ....................................................\n",
      "[CV] C=1, gamma=1000 .................................................\n",
      "[CV] ....... C=1, gamma=0.001, score=0.9318181818181818, total=   0.0s\n",
      "[CV] C=1, gamma=0.0001 ...............................................\n",
      "[CV] ......... C=10, gamma=10, score=0.6240601503759399, total=   0.0s\n",
      "[CV] C=10, gamma=10 ..................................................\n",
      "[CV] ........... C=1, gamma=1, score=0.6287878787878788, total=   0.0s\n",
      "[CV] ...... C=1, gamma=0.0001, score=0.8947368421052632, total=   0.0s\n",
      "[CV] C=1, gamma=0.1 ..................................................\n",
      "[CV] C=1, gamma=0.0001 ...............................................\n",
      "[CV] ........ C=1, gamma=1000, score=0.6240601503759399, total=   0.0s\n",
      "[CV] C=1, gamma=1000 .................................................\n",
      "[CV] ......... C=10, gamma=10, score=0.6240601503759399, total=   0.0s\n",
      "[CV] ...... C=1, gamma=0.0001, score=0.9323308270676691, total=   0.0s\n",
      "[CV] ......... C=1, gamma=0.1, score=0.6240601503759399, total=   0.0s\n",
      "[CV] C=1, gamma=0.0001 ...............................................\n",
      "[CV] C=10, gamma=10 ..................................................\n",
      "[CV] C=1, gamma=0.1 ..................................................\n",
      "[CV] ........ C=1, gamma=1000, score=0.6287878787878788, total=   0.0s\n",
      "[CV] C=1, gamma=100 ..................................................\n",
      "[CV] ......... C=10, gamma=10, score=0.6287878787878788, total=   0.0s\n",
      "[CV] ...... C=1, gamma=0.0001, score=0.9318181818181818, total=   0.0s\n",
      "[CV] C=10, gamma=1000 ................................................\n",
      "[CV] ......... C=1, gamma=0.1, score=0.6240601503759399, total=   0.0s\n",
      "[CV] C=10, gamma=1 ...................................................\n",
      "[CV] C=1, gamma=0.1 ..................................................\n",
      "[CV] ......... C=1, gamma=100, score=0.6240601503759399, total=   0.0s\n",
      "[CV] C=1, gamma=100 ..................................................\n",
      "[CV] .......... C=10, gamma=1, score=0.6240601503759399, total=   0.0s\n",
      "[CV] ....... C=10, gamma=1000, score=0.6240601503759399, total=   0.0s\n",
      "[CV] C=10, gamma=1 ...................................................\n",
      "[CV] ......... C=1, gamma=0.1, score=0.6287878787878788, total=   0.0s\n",
      "[CV] C=1, gamma=0.01 .................................................\n",
      "[CV] C=10, gamma=1000 ................................................\n",
      "[CV] ......... C=1, gamma=100, score=0.6240601503759399, total=   0.0s\n",
      "[CV] C=1, gamma=100 ..................................................\n",
      "[CV] .......... C=10, gamma=1, score=0.6240601503759399, total=   0.0s\n",
      "[CV] ........ C=1, gamma=0.01, score=0.6240601503759399, total=   0.0s\n",
      "[CV] C=1, gamma=0.01 .................................................\n",
      "[CV] C=10, gamma=1 ...................................................\n",
      "[CV] ....... C=10, gamma=1000, score=0.6240601503759399, total=   0.0s\n",
      "[CV] C=10, gamma=1000 ................................................\n",
      "[CV] ......... C=1, gamma=100, score=0.6287878787878788, total=   0.0s\n",
      "[CV] C=1, gamma=10 ...................................................\n",
      "[CV] .......... C=10, gamma=1, score=0.6287878787878788, total=   0.0s\n",
      "[CV] ........ C=1, gamma=0.01, score=0.6240601503759399, total=   0.0s\n",
      "[CV] C=10, gamma=0.1 .................................................\n",
      "[CV] C=1, gamma=0.01 .................................................\n",
      "[CV] ....... C=10, gamma=1000, score=0.6287878787878788, total=   0.0s\n",
      "[CV] .......... C=1, gamma=10, score=0.6240601503759399, total=   0.0s\n",
      "[CV] C=10, gamma=100 .................................................\n",
      "[CV] C=1, gamma=10 ...................................................\n",
      "[CV] ........ C=10, gamma=0.1, score=0.6240601503759399, total=   0.0s\n",
      "[CV] ........ C=1, gamma=0.01, score=0.6287878787878788, total=   0.0s\n",
      "[CV] C=10, gamma=0.1 .................................................\n",
      "[CV] C=1, gamma=0.001 ................................................\n",
      "[CV] ........ C=10, gamma=100, score=0.6240601503759399, total=   0.0s\n",
      "[CV] C=10, gamma=100 .................................................\n",
      "[CV] ........ C=10, gamma=0.1, score=0.6240601503759399, total=   0.0s\n",
      "[CV] .......... C=1, gamma=10, score=0.6240601503759399, total=   0.0s\n",
      "[CV] C=1, gamma=10 ...................................................\n",
      "[CV] C=10, gamma=0.1 .................................................\n",
      "[CV] ....... C=1, gamma=0.001, score=0.8646616541353384, total=   0.0s\n",
      "[CV] C=1, gamma=0.001 ................................................\n",
      "[CV] ........ C=10, gamma=100, score=0.6240601503759399, total=   0.0s\n",
      "[CV] C=10, gamma=100 .................................................\n",
      "[CV] ........ C=10, gamma=0.1, score=0.6287878787878788, total=   0.0s\n",
      "[CV] C=10, gamma=0.01 ................................................\n",
      "[CV] .......... C=1, gamma=10, score=0.6287878787878788, total=   0.0s\n",
      "[CV] C=1, gamma=1 ....................................................\n",
      "[CV] ....... C=1, gamma=0.001, score=0.8947368421052632, total=   0.0s\n",
      "[CV] C=10, gamma=0.01 ................................................\n",
      "[CV] ........ C=10, gamma=100, score=0.6287878787878788, total=   0.0s\n",
      "[CV] ....... C=10, gamma=0.01, score=0.6240601503759399, total=   0.0s\n",
      "[CV] ........... C=1, gamma=1, score=0.6240601503759399, total=   0.0s\n",
      "[CV] C=100, gamma=1000 ...............................................\n",
      "[CV] C=100, gamma=0.1 ................................................\n",
      "[CV] C=100, gamma=0.0001 .............................................\n",
      "[CV] .... C=100, gamma=0.0001, score=0.9172932330827067, total=   0.0s\n",
      "[CV] C=100, gamma=0.0001 .............................................\n",
      "[CV] ....... C=10, gamma=0.01, score=0.6165413533834586, total=   0.0s\n",
      "[CV] ...... C=100, gamma=1000, score=0.6287878787878788, total=   0.0s\n",
      "[CV] C=100, gamma=100 ................................................\n",
      "[CV] C=10, gamma=0.01 ................................................\n",
      "[CV] ....... C=100, gamma=0.1, score=0.6240601503759399, total=   0.0s\n",
      "[CV] C=100, gamma=0.1 ................................................\n",
      "[CV] .... C=100, gamma=0.0001, score=0.9318181818181818, total=   0.0s\n",
      "[CV] C=1000, gamma=1000 ..............................................\n",
      "[CV] ....... C=100, gamma=100, score=0.6240601503759399, total=   0.0s\n",
      "[CV] C=100, gamma=100 ................................................\n",
      "[CV] ....... C=10, gamma=0.01, score=0.6287878787878788, total=   0.0s\n",
      "[CV] C=10, gamma=0.001 ...............................................\n",
      "[CV] ....... C=100, gamma=0.1, score=0.6240601503759399, total=   0.0s\n",
      "[CV] ..... C=1000, gamma=1000, score=0.6240601503759399, total=   0.0s\n",
      "[CV] C=100, gamma=0.1 ................................................\n",
      "[CV] C=1000, gamma=1000 ..............................................\n",
      "[CV] ....... C=100, gamma=100, score=0.6240601503759399, total=   0.0s\n",
      "[CV] ...... C=10, gamma=0.001, score=0.8721804511278195, total=   0.0s\n",
      "[CV] C=10, gamma=0.001 ...............................................\n",
      "[CV] C=100, gamma=100 ................................................\n",
      "[CV] ....... C=100, gamma=0.1, score=0.6287878787878788, total=   0.0s\n",
      "[CV] C=100, gamma=0.01 ...............................................\n",
      "[CV] ..... C=1000, gamma=1000, score=0.6240601503759399, total=   0.0s\n",
      "[CV] C=1000, gamma=1000 ..............................................\n",
      "[CV] ....... C=100, gamma=100, score=0.6287878787878788, total=   0.0s\n",
      "[CV] ...... C=10, gamma=0.001, score=0.8872180451127819, total=   0.0s\n",
      "[CV] C=100, gamma=10 .................................................\n",
      "[CV] C=10, gamma=0.001 ...............................................\n",
      "[CV] ...... C=100, gamma=0.01, score=0.6240601503759399, total=   0.0s\n",
      "[CV] C=100, gamma=0.01 ...............................................\n",
      "[CV] ..... C=1000, gamma=1000, score=0.6287878787878788, total=   0.0s\n",
      "[CV] C=1000, gamma=100 ...............................................\n",
      "[CV] ........ C=100, gamma=10, score=0.6240601503759399, total=   0.0s\n",
      "[CV] ...... C=10, gamma=0.001, score=0.9242424242424242, total=   0.0s\n",
      "[CV] C=10, gamma=0.0001 ..............................................\n",
      "[CV] C=100, gamma=10 .................................................\n",
      "[CV] ...... C=100, gamma=0.01, score=0.6165413533834586, total=   0.0s\n",
      "[CV] C=100, gamma=0.01 ...............................................\n",
      "[CV] C=1000, gamma=100 ...............................................\n",
      "[CV] ...... C=1000, gamma=100, score=0.6240601503759399, total=   0.0s\n",
      "[CV] ..... C=10, gamma=0.0001, score=0.8796992481203008, total=   0.0s\n",
      "[CV] C=10, gamma=0.0001 ..............................................\n",
      "[CV] ........ C=100, gamma=10, score=0.6240601503759399, total=   0.0s\n",
      "[CV] C=100, gamma=10 .................................................\n",
      "[CV] ...... C=100, gamma=0.01, score=0.6287878787878788, total=   0.0s\n",
      "[CV] ...... C=1000, gamma=100, score=0.6240601503759399, total=   0.0s\n",
      "[CV] C=100, gamma=0.001 ..............................................\n",
      "[CV] ..... C=10, gamma=0.0001, score=0.9323308270676691, total=   0.0s\n",
      "[CV] C=1000, gamma=100 ...............................................\n",
      "[CV] C=10, gamma=0.0001 ..............................................\n",
      "[CV] ........ C=100, gamma=10, score=0.6287878787878788, total=   0.0s\n",
      "[CV] C=100, gamma=1 ..................................................\n",
      "[CV] ..... C=100, gamma=0.001, score=0.8721804511278195, total=   0.0s\n",
      "[CV] C=100, gamma=0.001 ..............................................\n",
      "[CV] ..... C=10, gamma=0.0001, score=0.9393939393939394, total=   0.0s\n",
      "[CV] C=100, gamma=1000 ...............................................\n",
      "[CV] ...... C=1000, gamma=100, score=0.6287878787878788, total=   0.0s\n",
      "[CV] ......... C=100, gamma=1, score=0.6240601503759399, total=   0.0s\n",
      "[CV] C=100, gamma=1 ..................................................\n",
      "[CV] C=1000, gamma=10 ................................................\n",
      "[CV] ..... C=100, gamma=0.001, score=0.8872180451127819, total=   0.0s\n",
      "[CV] C=100, gamma=0.001 ..............................................\n",
      "[CV] ...... C=100, gamma=1000, score=0.6240601503759399, total=   0.0s\n",
      "[CV] C=100, gamma=1000 ...............................................\n",
      "[CV] ......... C=100, gamma=1, score=0.6240601503759399, total=   0.0s\n",
      "[CV] ....... C=1000, gamma=10, score=0.6240601503759399, total=   0.0s\n",
      "[CV] C=100, gamma=1 ..................................................\n",
      "[CV] C=1000, gamma=10 ................................................\n",
      "[CV] ..... C=100, gamma=0.001, score=0.9242424242424242, total=   0.0s\n",
      "[CV] C=100, gamma=0.0001 .............................................\n",
      "[CV] ...... C=100, gamma=1000, score=0.6240601503759399, total=   0.0s\n",
      "[CV] ....... C=1000, gamma=10, score=0.6240601503759399, total=   0.0s\n",
      "[CV] ......... C=100, gamma=1, score=0.6287878787878788, total=   0.0s\n",
      "[CV] .... C=100, gamma=0.0001, score=0.8947368421052632, total=   0.0s\n",
      "[CV] C=1000, gamma=10 ................................................\n",
      "[CV] C=1000, gamma=0.001 .............................................\n",
      "[CV] C=10000, gamma=0.1 ..............................................\n",
      "[CV] C=10000, gamma=100 ..............................................\n",
      "[CV] ....... C=1000, gamma=10, score=0.6287878787878788, total=   0.0s\n",
      "[CV] C=1000, gamma=1 .................................................\n",
      "[CV] .... C=1000, gamma=0.001, score=0.8721804511278195, total=   0.0s\n",
      "[CV] C=1000, gamma=0.001 .............................................\n",
      "[CV] ..... C=10000, gamma=0.1, score=0.6287878787878788, total=   0.0s\n",
      "[CV] ..... C=10000, gamma=100, score=0.6240601503759399, total=   0.0s\n",
      "[CV] C=10000, gamma=0.01 .............................................\n",
      "[CV] C=10000, gamma=100 ..............................................\n",
      "[CV] .... C=1000, gamma=0.001, score=0.8872180451127819, total=   0.0s\n",
      "[CV] C=1000, gamma=0.001 .............................................\n",
      "[CV] ........ C=1000, gamma=1, score=0.6240601503759399, total=   0.0s\n",
      "[CV] .... C=10000, gamma=0.01, score=0.6240601503759399, total=   0.0s\n",
      "[CV] C=1000, gamma=1 .................................................\n",
      "[CV] C=10000, gamma=0.01 .............................................\n",
      "[CV] ..... C=10000, gamma=100, score=0.6287878787878788, total=   0.0s\n",
      "[CV] C=10000, gamma=10 ...............................................\n",
      "[CV] .... C=1000, gamma=0.001, score=0.9242424242424242, total=   0.0s\n",
      "[CV] C=1000, gamma=0.0001 ............................................\n",
      "[CV] ........ C=1000, gamma=1, score=0.6240601503759399, total=   0.0s\n",
      "[CV] C=1000, gamma=1 .................................................\n",
      "[CV] .... C=10000, gamma=0.01, score=0.6165413533834586, total=   0.0s\n",
      "[CV] ... C=1000, gamma=0.0001, score=0.8947368421052632, total=   0.0s\n",
      "[CV] C=1000, gamma=0.0001 ............................................\n",
      "[CV] ...... C=10000, gamma=10, score=0.6240601503759399, total=   0.0s\n",
      "[CV] C=10000, gamma=0.01 .............................................\n",
      "[CV] C=10000, gamma=10 ...............................................\n",
      "[CV] ........ C=1000, gamma=1, score=0.6287878787878788, total=   0.0s\n",
      "[CV] C=1000, gamma=0.1 ...............................................\n",
      "[CV] ... C=1000, gamma=0.0001, score=0.9323308270676691, total=   0.0s\n",
      "[CV] C=1000, gamma=0.0001 ............................................\n",
      "[CV] .... C=10000, gamma=0.01, score=0.6287878787878788, total=   0.0s\n",
      "[CV] C=10000, gamma=0.001 ............................................\n",
      "[CV] ...... C=1000, gamma=0.1, score=0.6240601503759399, total=   0.0s\n",
      "[CV] C=1000, gamma=0.1 ...............................................\n",
      "[CV] .... C=1000, gamma=0.0001, score=0.946969696969697, total=   0.0s\n",
      "[CV] ...... C=10000, gamma=10, score=0.6240601503759399, total=   0.0s\n",
      "[CV] C=10000, gamma=1000 .............................................\n",
      "[CV] ... C=10000, gamma=0.001, score=0.8721804511278195, total=   0.0s\n",
      "[CV] C=10000, gamma=10 ...............................................\n",
      "[CV] C=10000, gamma=0.001 ............................................\n",
      "[CV] ...... C=1000, gamma=0.1, score=0.6240601503759399, total=   0.0s\n",
      "[CV] .... C=10000, gamma=1000, score=0.6240601503759399, total=   0.0s\n",
      "[CV] C=1000, gamma=0.1 ...............................................\n",
      "[CV] ...... C=10000, gamma=10, score=0.6287878787878788, total=   0.0s\n",
      "[CV] C=10000, gamma=1000 .............................................\n",
      "[CV] C=10000, gamma=1 ................................................\n",
      "[CV] ... C=10000, gamma=0.001, score=0.8872180451127819, total=   0.0s\n",
      "[CV] C=10000, gamma=0.001 ............................................\n",
      "[CV] ...... C=1000, gamma=0.1, score=0.6287878787878788, total=   0.0s\n",
      "[CV] C=1000, gamma=0.01 ..............................................\n",
      "[CV] ....... C=10000, gamma=1, score=0.6240601503759399, total=   0.0s\n",
      "[CV] .... C=10000, gamma=1000, score=0.6240601503759399, total=   0.0s\n",
      "[CV] C=10000, gamma=1000 .............................................\n",
      "[CV] ... C=10000, gamma=0.001, score=0.9242424242424242, total=   0.0s\n",
      "[CV] C=10000, gamma=1 ................................................\n",
      "[CV] C=10000, gamma=0.0001 ...........................................\n",
      "[CV] ..... C=1000, gamma=0.01, score=0.6240601503759399, total=   0.0s\n",
      "[CV] C=1000, gamma=0.01 ..............................................\n",
      "[CV] .... C=10000, gamma=1000, score=0.6287878787878788, total=   0.0s\n",
      "[CV] C=10000, gamma=100 ..............................................\n",
      "[CV] ....... C=10000, gamma=1, score=0.6240601503759399, total=   0.0s\n",
      "[CV] .. C=10000, gamma=0.0001, score=0.8947368421052632, total=   0.0s\n",
      "[CV] C=10000, gamma=1 ................................................\n",
      "[CV] C=10000, gamma=0.0001 ...........................................\n",
      "[CV] ..... C=1000, gamma=0.01, score=0.6165413533834586, total=   0.0s\n",
      "[CV] C=1000, gamma=0.01 ..............................................\n",
      "[CV] .. C=10000, gamma=0.0001, score=0.9323308270676691, total=   0.0s\n",
      "[CV] ..... C=10000, gamma=100, score=0.6240601503759399, total=   0.0s\n",
      "[CV] C=100000, gamma=1000 ............................................\n",
      "[CV] C=10000, gamma=0.0001 ...........................................\n",
      "[CV] ....... C=10000, gamma=1, score=0.6287878787878788, total=   0.0s\n",
      "[CV] C=10000, gamma=0.1 ..............................................\n",
      "[CV] ..... C=1000, gamma=0.01, score=0.6287878787878788, total=   0.0s\n",
      "[CV] C=100000, gamma=1 ...............................................\n",
      "[CV] ... C=100000, gamma=1000, score=0.6240601503759399, total=   0.0s\n",
      "[CV] ..... C=10000, gamma=0.1, score=0.6240601503759399, total=   0.0s\n",
      "[CV] C=100000, gamma=1000 ............................................\n",
      "[CV] ... C=10000, gamma=0.0001, score=0.946969696969697, total=   0.0s\n",
      "[CV] C=100000, gamma=0.001 ...........................................\n",
      "[CV] C=10000, gamma=0.1 ..............................................\n",
      "[CV] ...... C=100000, gamma=1, score=0.6240601503759399, total=   0.0s\n",
      "[CV] C=100000, gamma=1 ...............................................\n",
      "[CV] .. C=100000, gamma=0.001, score=0.9242424242424242, total=   0.0s\n",
      "[CV] C=100000, gamma=0.0001 ..........................................\n",
      "[CV] ... C=100000, gamma=1000, score=0.6240601503759399, total=   0.0s\n",
      "[CV] C=100000, gamma=1000 ............................................\n",
      "[CV] ..... C=10000, gamma=0.1, score=0.6240601503759399, total=   0.0s\n",
      "[CV] ...... C=100000, gamma=1, score=0.6287878787878788, total=   0.0s\n",
      "[CV] C=100000, gamma=0.1 .............................................\n",
      "[CV] . C=100000, gamma=0.0001, score=0.8947368421052632, total=   0.0s\n",
      "[CV] C=100000, gamma=0.0001 ..........................................\n",
      "[CV] ... C=100000, gamma=1000, score=0.6287878787878788, total=   0.0s\n",
      "[CV] C=100000, gamma=100 .............................................\n",
      "[CV] .... C=100000, gamma=0.1, score=0.6240601503759399, total=   0.0s\n",
      "[CV] C=100000, gamma=0.1 .............................................\n",
      "[CV] . C=100000, gamma=0.0001, score=0.9323308270676691, total=   0.0s\n",
      "[CV] C=100000, gamma=0.0001 ..........................................\n",
      "[CV] .... C=100000, gamma=100, score=0.6240601503759399, total=   0.0s\n",
      "[CV] .... C=100000, gamma=0.1, score=0.6240601503759399, total=   0.0s\n",
      "[CV] C=100000, gamma=0.1 .............................................\n",
      "[CV] C=100000, gamma=100 .............................................\n",
      "[CV] .. C=100000, gamma=0.0001, score=0.946969696969697, total=   0.0s\n",
      "[CV] .... C=100000, gamma=0.1, score=0.6287878787878788, total=   0.0s\n",
      "[CV] C=100000, gamma=0.01 ............................................\n",
      "[CV] .... C=100000, gamma=100, score=0.6240601503759399, total=   0.0s\n",
      "[CV] C=100000, gamma=100 .............................................\n",
      "[CV] .... C=100000, gamma=100, score=0.6287878787878788, total=   0.0s\n",
      "[CV] ... C=100000, gamma=0.01, score=0.6240601503759399, total=   0.0s\n",
      "[CV] C=100000, gamma=10 ..............................................\n",
      "[CV] C=100000, gamma=0.01 ............................................\n",
      "[CV] ..... C=100000, gamma=10, score=0.6240601503759399, total=   0.0s\n",
      "[CV] C=100000, gamma=10 ..............................................\n",
      "[CV] ... C=100000, gamma=0.01, score=0.6165413533834586, total=   0.0s\n",
      "[CV] C=100000, gamma=0.01 ............................................\n",
      "[CV] ..... C=100000, gamma=10, score=0.6240601503759399, total=   0.0s\n",
      "[CV] C=100000, gamma=10 ..............................................\n",
      "[CV] ... C=100000, gamma=0.01, score=0.6287878787878788, total=   0.0s\n",
      "[CV] C=100000, gamma=0.001 ...........................................\n",
      "[CV] ..... C=100000, gamma=10, score=0.6287878787878788, total=   0.0s\n",
      "[CV] C=100000, gamma=1 ...............................................\n",
      "[CV] .. C=100000, gamma=0.001, score=0.8721804511278195, total=   0.0s\n",
      "[CV] C=100000, gamma=0.001 ...........................................\n",
      "[CV] ...... C=100000, gamma=1, score=0.6240601503759399, total=   0.0s\n",
      "[CV] .. C=100000, gamma=0.001, score=0.8872180451127819, total=   0.0s\n"
     ]
    },
    {
     "name": "stderr",
     "output_type": "stream",
     "text": [
      "[Parallel(n_jobs=-1)]: Done 192 out of 192 | elapsed:    1.3s finished\n"
     ]
    },
    {
     "data": {
      "text/plain": [
       "GridSearchCV(cv=None, error_score='raise',\n",
       "       estimator=SVC(C=1.0, cache_size=200, class_weight=None, coef0=0.0,\n",
       "  decision_function_shape='ovr', degree=3, gamma='auto', kernel='rbf',\n",
       "  max_iter=-1, probability=False, random_state=None, shrinking=True,\n",
       "  tol=0.001, verbose=False),\n",
       "       fit_params=None, iid=True, n_jobs=-1,\n",
       "       param_grid={'C': [0.01, 0.1, 1, 10, 100, 1000, 10000, 100000], 'gamma': [1000, 100, 10, 1, 0.1, 0.01, 0.001, 0.0001]},\n",
       "       pre_dispatch='2*n_jobs', refit=True, return_train_score='warn',\n",
       "       scoring=None, verbose=3)"
      ]
     },
     "execution_count": 984,
     "metadata": {},
     "output_type": "execute_result"
    }
   ],
   "source": [
    "gridGaussian.fit(X_train, y_train)"
   ]
  },
  {
   "cell_type": "code",
   "execution_count": 985,
   "metadata": {
    "collapsed": false
   },
   "outputs": [
    {
     "name": "stdout",
     "output_type": "stream",
     "text": [
      "Best params for gaussian kernel:  {'C': 1000, 'gamma': 0.0001}\n",
      "\n",
      "Best estimator for gaussian kernel:  SVC(C=1000, cache_size=200, class_weight=None, coef0=0.0,\n",
      "  decision_function_shape='ovr', degree=3, gamma=0.0001, kernel='rbf',\n",
      "  max_iter=-1, probability=False, random_state=None, shrinking=True,\n",
      "  tol=0.001, verbose=False)\n",
      "\n",
      "Best score for gaussian kernel:  0.9246231155778895\n",
      "\n"
     ]
    }
   ],
   "source": [
    "print(\"Best params for gaussian kernel: \", gridGaussian.best_params_, end = \"\\n\\n\")\n",
    "print(\"Best estimator for gaussian kernel: \", gridGaussian.best_estimator_, end = \"\\n\\n\")\n",
    "print(\"Best score for gaussian kernel: \", gridGaussian.best_score_, end = \"\\n\\n\")"
   ]
  },
  {
   "cell_type": "code",
   "execution_count": 986,
   "metadata": {
    "collapsed": false
   },
   "outputs": [
    {
     "name": "stdout",
     "output_type": "stream",
     "text": [
      "             precision    recall  f1-score   support\n",
      "\n",
      "          0       0.90      0.90      0.90        63\n",
      "          1       0.94      0.94      0.94       108\n",
      "\n",
      "avg / total       0.93      0.93      0.93       171\n",
      "\n",
      "[[ 57   6]\n",
      " [  6 102]]\n"
     ]
    }
   ],
   "source": [
    "gridPredGaussian = gridGaussian.predict(X_test)\n",
    "print(classification_report(y_test, gridPredGaussian))\n",
    "print(confusion_matrix(y_test, gridPredGaussian))"
   ]
  },
  {
   "cell_type": "code",
   "execution_count": 987,
   "metadata": {
    "collapsed": false
   },
   "outputs": [],
   "source": [
    "listaScoreG = []\n",
    "listaCG = []\n",
    "listaGammaG = []\n",
    "dicio = {}\n",
    "for score, C, gamma in zip(gridGaussian.cv_results_['mean_test_score'], gridGaussian.cv_results_['param_C'], gridGaussian.cv_results_['param_gamma']):\n",
    "    if (score, gamma) not in dicio:\n",
    "        listaScoreG.append(score)\n",
    "        listaCG.append(C)\n",
    "        listaGammaG.append(gamma)\n",
    "        dicio[score, gamma] = 1\n",
    "        #print(score, C, gamma)"
   ]
  },
  {
   "cell_type": "code",
   "execution_count": 988,
   "metadata": {
    "collapsed": false
   },
   "outputs": [],
   "source": [
    "#gridGaussian.cv_results_"
   ]
  },
  {
   "cell_type": "code",
   "execution_count": 989,
   "metadata": {
    "collapsed": false
   },
   "outputs": [
    {
     "data": {
      "image/png": "[encoded data removed]",
      "text/plain": [
       "<Figure size 432x288 with 1 Axes>"
      ]
     },
     "metadata": {
      "needs_background": "light"
     },
     "output_type": "display_data"
    }
   ],
   "source": [
    "plt.subplot()\n",
    "plt.loglog(listaCG, listaScoreG, basex=2)\n",
    "plt.grid(True)\n",
    "plt.yscale(\"linear\")\n",
    "plt.xlabel(\"C\")\n",
    "plt.ylabel(\"Test Score\")\n",
    "plt.title(\"Test Score x C\")\n",
    "plt.show()"
   ]
  },
  {
   "cell_type": "markdown",
   "metadata": {},
   "source": [
    "# RBF Kernel"
   ]
  },
  {
   "cell_type": "code",
   "execution_count": 1207,
   "metadata": {
    "collapsed": true
   },
   "outputs": [],
   "source": [
    "svmRBF = SVC(kernel = 'rbf')"
   ]
  },
  {
   "cell_type": "code",
   "execution_count": 1208,
   "metadata": {
    "collapsed": false
   },
   "outputs": [
    {
     "data": {
      "text/plain": [
       "SVC(C=1.0, cache_size=200, class_weight=None, coef0=0.0,\n",
       "  decision_function_shape='ovr', degree=3, gamma='auto', kernel='rbf',\n",
       "  max_iter=-1, probability=False, random_state=None, shrinking=True,\n",
       "  tol=0.001, verbose=False)"
      ]
     },
     "execution_count": 1208,
     "metadata": {},
     "output_type": "execute_result"
    }
   ],
   "source": [
    "svmRBF.fit(X_train,y_train)"
   ]
  },
  {
   "cell_type": "code",
   "execution_count": 1209,
   "metadata": {
    "collapsed": false
   },
   "outputs": [
    {
     "name": "stdout",
     "output_type": "stream",
     "text": [
      "             precision    recall  f1-score   support\n",
      "\n",
      "          0       1.00      0.75      0.85        63\n",
      "          1       0.87      1.00      0.93       108\n",
      "\n",
      "avg / total       0.92      0.91      0.90       171\n",
      "\n",
      "[[ 47  16]\n",
      " [  0 108]]\n"
     ]
    }
   ],
   "source": [
    "predRBF  = svmRBF.predict(X_test)\n",
    "print(classification_report(y_test, predRBF))\n",
    "print(confusion_matrix(y_test, predRBF))"
   ]
  },
  {
   "cell_type": "code",
   "execution_count": 1210,
   "metadata": {
    "collapsed": false
   },
   "outputs": [
    {
     "data": {
      "text/html": [
       "<div>\n",
       "<style scoped>\n",
       "    .dataframe tbody tr th:only-of-type {\n",
       "        vertical-align: middle;\n",
       "    }\n",
       "\n",
       "    .dataframe tbody tr th {\n",
       "        vertical-align: top;\n",
       "    }\n",
       "\n",
       "    .dataframe thead th {\n",
       "        text-align: right;\n",
       "    }\n",
       "</style>\n",
       "<table border=\"1\" class=\"dataframe\">\n",
       "  <thead>\n",
       "    <tr style=\"text-align: right;\">\n",
       "      <th></th>\n",
       "      <th>diagnosis</th>\n",
       "      <th>mean radius</th>\n",
       "      <th>mean texture</th>\n",
       "      <th>mean perimeter</th>\n",
       "      <th>mean area</th>\n",
       "      <th>mean smoothness</th>\n",
       "      <th>mean compactness</th>\n",
       "      <th>mean concavity</th>\n",
       "      <th>mean concave points</th>\n",
       "      <th>mean symmetry</th>\n",
       "      <th>...</th>\n",
       "      <th>worst radius</th>\n",
       "      <th>worst texture</th>\n",
       "      <th>worst perimeter</th>\n",
       "      <th>worst area</th>\n",
       "      <th>worst smoothness</th>\n",
       "      <th>worst compactness</th>\n",
       "      <th>worst concavity</th>\n",
       "      <th>worst concave points</th>\n",
       "      <th>worst symmetry</th>\n",
       "      <th>worst fractal dimension</th>\n",
       "    </tr>\n",
       "  </thead>\n",
       "  <tbody>\n",
       "    <tr>\n",
       "      <th>0</th>\n",
       "      <td>0</td>\n",
       "      <td>17.99</td>\n",
       "      <td>10.38</td>\n",
       "      <td>122.8</td>\n",
       "      <td>1001.0</td>\n",
       "      <td>0.1184</td>\n",
       "      <td>0.2776</td>\n",
       "      <td>0.3001</td>\n",
       "      <td>0.1471</td>\n",
       "      <td>0.2419</td>\n",
       "      <td>...</td>\n",
       "      <td>25.38</td>\n",
       "      <td>17.33</td>\n",
       "      <td>184.6</td>\n",
       "      <td>2019.0</td>\n",
       "      <td>0.1622</td>\n",
       "      <td>0.6656</td>\n",
       "      <td>0.7119</td>\n",
       "      <td>0.2654</td>\n",
       "      <td>0.4601</td>\n",
       "      <td>0.1189</td>\n",
       "    </tr>\n",
       "  </tbody>\n",
       "</table>\n",
       "<p>1 rows × 31 columns</p>\n",
       "</div>"
      ],
      "text/plain": [
       "   diagnosis  mean radius  mean texture  mean perimeter  mean area  \\\n",
       "0          0        17.99         10.38           122.8     1001.0   \n",
       "\n",
       "   mean smoothness  mean compactness  mean concavity  mean concave points  \\\n",
       "0           0.1184            0.2776          0.3001               0.1471   \n",
       "\n",
       "   mean symmetry           ...             worst radius  worst texture  \\\n",
       "0         0.2419           ...                    25.38          17.33   \n",
       "\n",
       "   worst perimeter  worst area  worst smoothness  worst compactness  \\\n",
       "0            184.6      2019.0            0.1622             0.6656   \n",
       "\n",
       "   worst concavity  worst concave points  worst symmetry  \\\n",
       "0           0.7119                0.2654          0.4601   \n",
       "\n",
       "   worst fractal dimension  \n",
       "0                   0.1189  \n",
       "\n",
       "[1 rows x 31 columns]"
      ]
     },
     "execution_count": 1210,
     "metadata": {},
     "output_type": "execute_result"
    }
   ],
   "source": [
    "from pandas.tools.plotting import scatter_matrix\n",
    "\n",
    "result = pd.concat([dfTarget,dfData], axis=1, join_axes=[dfData.index])\n",
    "\n",
    "result.head(1)"
   ]
  },
  {
   "cell_type": "code",
   "execution_count": 1241,
   "metadata": {
    "collapsed": false
   },
   "outputs": [
    {
     "data": {
      "text/plain": [
       "<matplotlib.axes._subplots.AxesSubplot at 0x7f28d43ad160>"
      ]
     },
     "execution_count": 1241,
     "metadata": {},
     "output_type": "execute_result"
    },
    {
     "data": {
      "image/png": "[encoded data removed]",
      "text/plain": [
       "<Figure size 432x288 with 2 Axes>"
      ]
     },
     "metadata": {},
     "output_type": "display_data"
    }
   ],
   "source": [
    "corr = result.corr()\n",
    "sns.heatmap(corr, \n",
    "            xticklabels=corr.columns.values,\n",
    "            yticklabels=corr.columns.values)"
   ]
  },
  {
   "cell_type": "code",
   "execution_count": null,
   "metadata": {
    "collapsed": true
   },
   "outputs": [],
   "source": []
  }
 ],
 "metadata": {
  "kernelspec": {
   "display_name": "Python 3",
   "language": "python",
   "name": "python3"
  },
  "language_info": {
   "codemirror_mode": {
    "name": "ipython",
    "version": 3
   },
   "file_extension": ".py",
   "mimetype": "text/x-python",
   "name": "python",
   "nbconvert_exporter": "python",
   "pygments_lexer": "ipython3",
   "version": "3.6.3"
  }
 },
 "nbformat": 4,
 "nbformat_minor": 2
}
